{
 "cells": [
  {
   "cell_type": "code",
   "execution_count": 1,
   "id": "3e845cf8",
   "metadata": {},
   "outputs": [
    {
     "name": "stdout",
     "output_type": "stream",
     "text": [
      "Loaded CSI_20250220_204932.csv with shape (300, 16)\n",
      "Loaded CSI_20250220_205301.csv with shape (300, 16)\n",
      "Loaded CSI_20250220_205318.csv with shape (300, 16)\n",
      "Loaded CSI_20250220_205330.csv with shape (300, 16)\n",
      "Loaded CSI_20250220_205343.csv with shape (300, 16)\n",
      "Loaded CSI_20250220_205356.csv with shape (300, 16)\n",
      "Loaded CSI_20250220_205406.csv with shape (300, 16)\n",
      "Loaded CSI_20250220_205439.csv with shape (300, 16)\n",
      "Loaded CSI_20250220_205451.csv with shape (300, 16)\n",
      "Loaded CSI_20250220_205504.csv with shape (300, 16)\n",
      "Loaded CSI_20250220_205516.csv with shape (300, 16)\n",
      "Loaded CSI_20250220_205526.csv with shape (300, 16)\n",
      "Loaded CSI_20250220_205539.csv with shape (300, 16)\n",
      "Loaded CSI_20250220_205553.csv with shape (300, 16)\n",
      "Loaded CSI_20250220_205607.csv with shape (300, 16)\n",
      "Loaded CSI_20250220_205624.csv with shape (300, 16)\n",
      "Loaded CSI_20250220_205637.csv with shape (300, 16)\n",
      "Loaded CSI_20250220_205645.csv with shape (300, 16)\n",
      "Loaded CSI_20250220_205654.csv with shape (300, 16)\n",
      "Loaded CSI_20250220_205704.csv with shape (300, 16)\n",
      "Total number of motion detection files loaded: 20\n",
      "Loaded CSI_20250220_203408.csv with shape (300, 17)\n",
      "Loaded CSI_20250220_204824.csv with shape (300, 16)\n",
      "Loaded CSI_20250220_210608.csv with shape (300, 16)\n",
      "Loaded CSI_20250220_210623.csv with shape (300, 16)\n",
      "Loaded CSI_20250220_210645.csv with shape (300, 16)\n",
      "Loaded CSI_20250220_210747.csv with shape (300, 16)\n",
      "Loaded CSI_20250220_210802.csv with shape (300, 16)\n",
      "Loaded CSI_20250220_210814.csv with shape (300, 16)\n",
      "Loaded CSI_20250220_210840.csv with shape (300, 16)\n",
      "Loaded CSI_20250220_210854.csv with shape (300, 16)\n",
      "Total number of static detection files loaded: 10\n"
     ]
    }
   ],
   "source": [
    "# motion_detection\n",
    "\n",
    "\n",
    "import os\n",
    "import pandas as pd\n",
    "\n",
    "# read every csv file in the benchmark\\motion_detection\\evaluation_motion directory and save them in a list\n",
    "motion_directory = \"benchmark/motion_detection/evaluation_motion\"\n",
    "\n",
    "motion_list = []\n",
    "\n",
    "for filename in os.listdir(motion_directory):\n",
    "    if filename.endswith(\".csv\"):\n",
    "        filepath = os.path.join(motion_directory, filename)\n",
    "        df = pd.read_csv(filepath)\n",
    "        motion_list.append(df)\n",
    "\n",
    "        print(f\"Loaded {filename} with shape {df.shape}\")\n",
    "\n",
    "print(f\"Total number of motion detection files loaded: {len(motion_list)}\")\n",
    "\n",
    "# read every csv file in the benchmark\\motion_detection\\evaluation_static directory and save them in a list\n",
    "static_directory = \"benchmark/motion_detection/evaluation_static\"\n",
    "static_list = []\n",
    "\n",
    "for filename in os.listdir(static_directory):\n",
    "    if filename.endswith(\".csv\"):\n",
    "        filepath = os.path.join(static_directory, filename)\n",
    "        df = pd.read_csv(filepath)\n",
    "        static_list.append(df)\n",
    "\n",
    "        print(f\"Loaded {filename} with shape {df.shape}\")\n",
    "\n",
    "print(f\"Total number of static detection files loaded: {len(static_list)}\")\n"
   ]
  },
  {
   "cell_type": "code",
   "execution_count": 2,
   "id": "01fdf32d",
   "metadata": {},
   "outputs": [
    {
     "name": "stdout",
     "output_type": "stream",
     "text": [
      "rows: 300, columns: 16\n",
      "columns: ['Unnamed: 0', 'type', 'id', 'mac', 'rssi', 'rate', 'noise_floor', 'fft_gain', 'agc_gain', 'channel', 'local_timestamp', 'sig_len', 'rx_state', 'len', 'first_word', 'data']\n",
      "Column 'Unnamed: 0' has 300 unique values, min: 0, max: 299\n",
      "Column 'type' has 1 unique values\n",
      "Column 'id' has 300 unique values, min: 356579, max: 356919\n",
      "Column 'mac' has 1 unique values\n",
      "Column 'rssi' has 19 unique values, min: -55, max: -37\n",
      "Column 'rate' has 1 unique values, min: 11, max: 11\n",
      "Column 'noise_floor' has 1 unique values, min: 159, max: 159\n",
      "Column 'fft_gain' has 1 unique values, min: 14, max: 14\n",
      "Column 'agc_gain' has 1 unique values, min: 29, max: 29\n",
      "Column 'channel' has 1 unique values, min: 8, max: 8\n",
      "Column 'local_timestamp' has 300 unique values, min: -646763950, max: -643293937\n",
      "Column 'sig_len' has 1 unique values, min: 44, max: 44\n",
      "Column 'rx_state' has 1 unique values, min: 0, max: 0\n",
      "Column 'len' has 1 unique values, min: 234, max: 234\n",
      "Column 'first_word' has 1 unique values, min: 0, max: 0\n",
      "Column 'data' has 300 unique values\n"
     ]
    }
   ],
   "source": [
    "example_df = motion_list[0]\n",
    "print(f\"rows: {example_df.shape[0]}, columns: {example_df.shape[1]}\")\n",
    "print(f\"columns: {example_df.columns.tolist()}\")\n",
    "\n",
    "# 对每一列进行进行统计\n",
    "for column in example_df.columns:\n",
    "    if example_df[column].dtype == 'object':\n",
    "        print(f\"Column '{column}' has {example_df[column].nunique()} unique values\")\n",
    "    else:\n",
    "        print(f\"Column '{column}' has {example_df[column].nunique()} unique values, min: {example_df[column].min()}, max: {example_df[column].max()}\")"
   ]
  },
  {
   "cell_type": "code",
   "execution_count": 3,
   "id": "b59ccb18",
   "metadata": {},
   "outputs": [
    {
     "name": "stdout",
     "output_type": "stream",
     "text": [
      "rows: 300, columns: 17\n",
      "columns: ['Unnamed: 0.1', 'Unnamed: 0', 'type', 'id', 'mac', 'rssi', 'rate', 'noise_floor', 'fft_gain', 'agc_gain', 'channel', 'local_timestamp', 'sig_len', 'rx_state', 'len', 'first_word', 'data']\n",
      "Column 'Unnamed: 0.1' has 300 unique values, min: 0, max: 299\n",
      "Column 'Unnamed: 0' has 300 unique values, min: 0, max: 299\n",
      "Column 'type' has 1 unique values\n",
      "Column 'id' has 300 unique values, min: 267304, max: 267644\n",
      "Column 'mac' has 1 unique values\n",
      "Column 'rssi' has 2 unique values, min: -39, max: -37\n",
      "Column 'rate' has 1 unique values, min: 11, max: 11\n",
      "Column 'noise_floor' has 1 unique values, min: 159, max: 159\n",
      "Column 'fft_gain' has 1 unique values, min: 14, max: 14\n",
      "Column 'agc_gain' has 1 unique values, min: 29, max: 29\n",
      "Column 'channel' has 1 unique values, min: 8, max: 8\n",
      "Column 'local_timestamp' has 300 unique values, min: -1570887477, max: -1567487462\n",
      "Column 'sig_len' has 1 unique values, min: 44, max: 44\n",
      "Column 'rx_state' has 1 unique values, min: 0, max: 0\n",
      "Column 'len' has 1 unique values, min: 234, max: 234\n",
      "Column 'first_word' has 1 unique values, min: 0, max: 0\n",
      "Column 'data' has 300 unique values\n"
     ]
    }
   ],
   "source": [
    "example_df = static_list[0]\n",
    "print(f\"rows: {example_df.shape[0]}, columns: {example_df.shape[1]}\")\n",
    "print(f\"columns: {example_df.columns.tolist()}\")\n",
    "\n",
    "# 对每一列进行进行统计\n",
    "for column in example_df.columns:\n",
    "    if example_df[column].dtype == 'object':\n",
    "        print(f\"Column '{column}' has {example_df[column].nunique()} unique values\")\n",
    "    else:\n",
    "        print(f\"Column '{column}' has {example_df[column].nunique()} unique values, min: {example_df[column].min()}, max: {example_df[column].max()}\")"
   ]
  },
  {
   "cell_type": "code",
   "execution_count": 4,
   "id": "50e3dcc0",
   "metadata": {},
   "outputs": [
    {
     "name": "stdout",
     "output_type": "stream",
     "text": [
      "rows: 300, columns: 5\n",
      "columns: ['Unnamed: 0', 'id', 'rssi', 'local_timestamp', 'data']\n",
      "motion std range: 1.6097909736416989-6.207069727676365\n",
      "motion std: [3.8601471197291413, 3.5700897315323696, 6.207069727676365, 4.237480741234112, 3.9653965908381723, 3.371723191458876, 3.527972311223905, 3.6901432479831255, 3.7956438095072977, 3.832391430982428, 3.8053474080983802, 3.460037826589034, 4.060440799615171, 4.3667896363326415, 2.6136934659600497, 2.354991851806195, 1.6097909736416989, 2.8254674734813756, 2.4858574334597656, 2.0573142215082436]\n",
      "static std range: 0.0-0.4853598005695571\n",
      "static std: [0.11547005383792464, 0.16234073749421957, 0.46462365345879736, 0.4853598005695571, 0.41937470042123676, 0.0, 0.05773502691896244, 0.4685302810952917, 0.45452021821096333, 0.15121212222763153]\n"
     ]
    }
   ],
   "source": [
    "motion_list = [df[['Unnamed: 0', 'id', 'rssi', 'local_timestamp', 'data']] for df in motion_list]\n",
    "print(f\"rows: {motion_list[0].shape[0]}, columns: {motion_list[0].shape[1]}\")\n",
    "print(f\"columns: {motion_list[0].columns.tolist()}\")\n",
    "\n",
    "# motion_list中每个数据集的rssi列的标准差\n",
    "motion_std = []\n",
    "for i, df in enumerate(motion_list):\n",
    "    motion_std.append(float(df['rssi'].std()))\n",
    "\n",
    "# static_list中每个数据集的rssi列的标准差\n",
    "static_std = []\n",
    "for i, df in enumerate(static_list):\n",
    "    static_std.append(float(df['rssi'].std()))\n",
    "\n",
    "print(f\"motion std range: {min(motion_std)}-{max(motion_std)}\")\n",
    "print(f\"motion std: {motion_std}\")\n",
    "print(f\"static std range: {min(static_std)}-{max(static_std)}\")\n",
    "print(f\"static std: {static_std}\")"
   ]
  },
  {
   "cell_type": "code",
   "execution_count": 5,
   "id": "a912cde6",
   "metadata": {},
   "outputs": [
    {
     "name": "stdout",
     "output_type": "stream",
     "text": [
      "file CSI_20250220_205713.csv 's rssi std: 3.22459023176043, which is motion\n",
      "file CSI_20250220_205723.csv 's rssi std: 4.252351962494638, which is motion\n",
      "file CSI_20250220_205733.csv 's rssi std: 3.4714699593874885, which is motion\n",
      "file CSI_20250220_205803.csv 's rssi std: 4.039209995940339, which is motion\n",
      "file CSI_20250220_205822.csv 's rssi std: 4.040210376764716, which is motion\n",
      "file CSI_20250220_205834.csv 's rssi std: 4.278356773086479, which is motion\n",
      "file CSI_20250220_205845.csv 's rssi std: 3.4413966208998827, which is motion\n",
      "file CSI_20250220_205855.csv 's rssi std: 3.8307838936290657, which is motion\n",
      "file CSI_20250220_205906.csv 's rssi std: 3.253846022069889, which is motion\n",
      "file CSI_20250220_205928.csv 's rssi std: 3.1035833570896028, which is motion\n",
      "file CSI_20250220_205943.csv 's rssi std: 3.6288267388451327, which is motion\n",
      "file CSI_20250220_205958.csv 's rssi std: 3.925538825749118, which is motion\n",
      "file CSI_20250220_210036.csv 's rssi std: 4.937667203609504, which is motion\n",
      "file CSI_20250220_210046.csv 's rssi std: 2.546679040634855, which is motion\n",
      "file CSI_20250220_210058.csv 's rssi std: 3.893275224440748, which is motion\n",
      "file CSI_20250220_210110.csv 's rssi std: 2.8155959981808665, which is motion\n",
      "file CSI_20250220_210123.csv 's rssi std: 3.816672630257301, which is motion\n",
      "file CSI_20250220_210141.csv 's rssi std: 4.6832751120134715, which is motion\n",
      "file CSI_20250220_210151.csv 's rssi std: 3.4044678494285483, which is motion\n",
      "file CSI_20250220_210204.csv 's rssi std: 3.265399158003896, which is motion\n",
      "file CSI_20250220_210911.csv 's rssi std: 0.2611184245913961, which is static\n",
      "file CSI_20250220_210928.csv 's rssi std: 0.2183090993894986, which is static\n",
      "file CSI_20250220_210942.csv 's rssi std: 0.0, which is static\n",
      "file CSI_20250220_211010.csv 's rssi std: 0.12892662090737958, which is static\n",
      "file CSI_20250220_211023.csv 's rssi std: 0.08151300584956393, which is static\n",
      "file CSI_20250220_211035.csv 's rssi std: 0.0, which is static\n",
      "file CSI_20250220_211055.csv 's rssi std: 0.30490234560715235, which is static\n",
      "file CSI_20250220_211107.csv 's rssi std: 0.1882560935128121, which is static\n",
      "file CSI_20250220_211121.csv 's rssi std: 0.4064557085739239, which is static\n",
      "file CSI_20250220_211138.csv 's rssi std: 0.42153565411754834, which is static\n"
     ]
    }
   ],
   "source": [
    "test_directory = \"benchmark/motion_detection/test\"\n",
    "\n",
    "for filename in os.listdir(test_directory):\n",
    "    if filename.endswith(\".csv\"):\n",
    "        filepath = os.path.join(test_directory, filename)\n",
    "        df = pd.read_csv(filepath)\n",
    "        rssi_std = float(df['rssi'].std())\n",
    "        print(f\"file {filename} 's rssi std: {rssi_std}, which is {'motion' if rssi_std >= 1.0 else 'static'}\")"
   ]
  }
 ],
 "metadata": {
  "kernelspec": {
   "display_name": "aiot",
   "language": "python",
   "name": "python3"
  },
  "language_info": {
   "codemirror_mode": {
    "name": "ipython",
    "version": 3
   },
   "file_extension": ".py",
   "mimetype": "text/x-python",
   "name": "python",
   "nbconvert_exporter": "python",
   "pygments_lexer": "ipython3",
   "version": "3.9.21"
  }
 },
 "nbformat": 4,
 "nbformat_minor": 5
}
