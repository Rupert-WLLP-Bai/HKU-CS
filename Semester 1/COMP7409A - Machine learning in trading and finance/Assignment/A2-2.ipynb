{
 "cells": [
  {
   "cell_type": "markdown",
   "metadata": {},
   "source": [
    "# Question 2\n",
    "Choose a suitable method (except neural network) from sklearn to train a\n",
    "Machine Learning model using the MNIST data set for hand-written digit classification.\n",
    "Provide a brief explanation of your chosen method and why it is suitable for this task."
   ]
  },
  {
   "cell_type": "markdown",
   "metadata": {},
   "source": [
    "## Explanation of SVM\n",
    "SVM is a supervised machine learning algorithm used for both classification and regression tasks. In classification, SVM works by finding an optimal hyperplane that best separates the data points of different classes. For linearly separable data, this hyperplane maximizes the margin between the two classes. For data that is not linearly separable, SVM uses a kernel trick to map data into a higher-dimensional space, where it becomes easier to classify with a hyperplane.\n",
    "\n",
    "## Key Reasons Why SVM is Suitable for MNIST\n",
    "1. Effective in High-Dimensional Spaces: MNIST consists of 28x28 pixel images, which translates to a 784-dimensional feature space when each pixel is treated as an individual feature. SVM is known for its effectiveness in handling high-dimensional data.\n",
    "\n",
    "2. Well-Suited for Small to Medium-Size Datasets: While neural networks excel on very large datasets, SVM can perform comparably well on smaller datasets and doesn't require as extensive tuning.\n",
    "\n",
    "3. Ability to Handle Non-Linear Boundaries: With the use of non-linear kernels (e.g., the RBF kernel), SVM can efficiently handle the curved decision boundaries present in complex datasets like MNIST.\n",
    "\n",
    "4. Robustness to Overfitting: By maximizing the margin between classes, SVM tends to generalize well, reducing the risk of overfitting."
   ]
  },
  {
   "cell_type": "code",
   "execution_count": null,
   "metadata": {},
   "outputs": [],
   "source": [
    "import numpy as np\n",
    "from sklearn import datasets\n",
    "from sklearn.svm import SVC\n",
    "from sklearn.metrics import accuracy_score, classification_report\n",
    "from sklearn.model_selection import train_test_split\n",
    "from sklearn.preprocessing import StandardScaler\n",
    "import matplotlib.pyplot as plt\n",
    "from sklearn.datasets import fetch_openml\n",
    "\n",
    "# Load the MNIST dataset\n",
    "mnist = fetch_openml('mnist_784', version=1)\n",
    "X, y = mnist.data, mnist.target.astype(int)\n",
    "\n",
    "# Split the data into training and testing sets\n",
    "X_train, X_test, y_train, y_test = train_test_split(X, y, test_size=0.2, random_state=42)\n",
    "\n",
    "# Scale the data to zero mean and unit variance\n",
    "scaler = StandardScaler()\n",
    "X_train = scaler.fit_transform(X_train)\n",
    "X_test = scaler.transform(X_test)\n",
    "\n",
    "# Initialize the SVM model with RBF kernel\n",
    "svm_model = SVC(kernel='rbf', gamma='scale', C=1.0)\n",
    "\n",
    "# Train the SVM model\n",
    "svm_model.fit(X_train, y_train)\n",
    "\n",
    "# Predict on the test set\n",
    "y_pred = svm_model.predict(X_test)\n",
    "\n",
    "# Evaluate the model\n",
    "accuracy = accuracy_score(y_test, y_pred)\n",
    "print(f\"Accuracy on the test set: {accuracy * 100:.2f}%\")\n",
    "print(\"\\nClassification Report:\\n\", classification_report(y_test, y_pred))\n",
    "\n",
    "# Visualize some predictions\n",
    "plt.figure(figsize=(10, 5))\n",
    "for i in range(1, 11):\n",
    "    plt.subplot(2, 5, i)\n",
    "    plt.imshow(X_test[i].reshape(28, 28), cmap='gray')\n",
    "    plt.title(f\"Prediction: {y_pred[i]}\")\n",
    "    plt.axis('off')\n",
    "plt.show()\n"
   ]
  }
 ],
 "metadata": {
  "kernelspec": {
   "display_name": "tf",
   "language": "python",
   "name": "python3"
  },
  "language_info": {
   "codemirror_mode": {
    "name": "ipython",
    "version": 3
   },
   "file_extension": ".py",
   "mimetype": "text/x-python",
   "name": "python",
   "nbconvert_exporter": "python",
   "pygments_lexer": "ipython3",
   "version": "3.12.7"
  }
 },
 "nbformat": 4,
 "nbformat_minor": 2
}
